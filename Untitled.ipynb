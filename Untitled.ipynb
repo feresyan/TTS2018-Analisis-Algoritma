{
 "cells": [
  {
   "cell_type": "code",
   "execution_count": 1,
   "metadata": {},
   "outputs": [],
   "source": [
    "import numpy as np"
   ]
  },
  {
   "cell_type": "code",
   "execution_count": 31,
   "metadata": {},
   "outputs": [
    {
     "name": "stdout",
     "output_type": "stream",
     "text": [
      "[['' '' '' '' '']\n",
      " ['' 'k' 's' 'z' '']\n",
      " ['' 'u' 'g' 'k' '']\n",
      " ['' 'd' 'a' 'f' '']\n",
      " ['' '' '' '' '']]\n",
      "(array([1, 2], dtype=int64), array([1, 3], dtype=int64))\n",
      "(array([2], dtype=int64), array([1], dtype=int64))\n"
     ]
    }
   ],
   "source": [
    "kata = 'ku'\n",
    "\n",
    "matriks = [['k','s','z'],['u','g','k'],['d','a','f']]\n",
    "matriks = np.pad(matriks,((1,1),(1,1)),'constant')\n",
    "print(matriks)\n",
    "\n",
    "for word in kata:\n",
    "    ix1 = np.where(np.isin(matriks,word))\n",
    "    print(ix1)\n",
    "    for i in range(np.shape(ix1[0]))\n",
    "        print(ix1[i],ix[])\n",
    "#     if(np.shape(ix)[0]!=0) :\n",
    "#         ix2 = np.where(np.isin(matriks[],word))"
   ]
  },
  {
   "cell_type": "code",
   "execution_count": null,
   "metadata": {},
   "outputs": [],
   "source": []
  }
 ],
 "metadata": {
  "kernelspec": {
   "display_name": "Python 3",
   "language": "python",
   "name": "python3"
  },
  "language_info": {
   "codemirror_mode": {
    "name": "ipython",
    "version": 3
   },
   "file_extension": ".py",
   "mimetype": "text/x-python",
   "name": "python",
   "nbconvert_exporter": "python",
   "pygments_lexer": "ipython3",
   "version": "3.6.5"
  }
 },
 "nbformat": 4,
 "nbformat_minor": 2
}
