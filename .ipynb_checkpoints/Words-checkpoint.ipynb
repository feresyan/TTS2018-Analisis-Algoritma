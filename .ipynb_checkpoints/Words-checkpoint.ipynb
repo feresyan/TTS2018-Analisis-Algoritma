{
 "cells": [
  {
   "cell_type": "code",
   "execution_count": 3,
   "metadata": {},
   "outputs": [],
   "source": [
    "import numpy as np"
   ]
  },
  {
   "cell_type": "code",
   "execution_count": 6,
   "metadata": {},
   "outputs": [
    {
     "name": "stdout",
     "output_type": "stream",
     "text": [
      "[['k' 'o' 'z']\n",
      " ['u' 'g' 'a']\n",
      " ['k' 'd' 'b']]\n",
      "[['' '' '' '' '']\n",
      " ['' 'k' 'o' 'z' '']\n",
      " ['' 'u' 'g' 'a' '']\n",
      " ['' 'k' 'd' 'b' '']\n",
      " ['' '' '' '' '']]\n",
      "(array([1, 3], dtype=int32), array([1, 1], dtype=int32))\n"
     ]
    }
   ],
   "source": [
    "found = False\n",
    "word = 'kuda'\n",
    "\n",
    "matrix = np.array([['k','o','z'],['u','g','a'],['k','d','b']])\n",
    "print(matrix)\n",
    "matrix = np.pad(matrix,1,'constant')\n",
    "print(matrix)\n",
    "\n",
    "ix = np.where(np.isin(matrix,word[0]))\n",
    "print(ix)\n",
    "# for i in range(np.shape(ix)[1]):\n",
    "#     A = np.array(matrix)\n",
    "#     wix = 1\n",
    "#     while wix < len(word) :\n",
    "#         B = np.array(A[ix[0][0]-1:ix[0][0]+2,ix[1][0]-1:ix[1][0]+2])\n",
    "#         B[1,1] = ''\n",
    "#         if(np.sum(np.isin(B,word[wix]))==0) :\n",
    "#             found = False\n",
    "#             break\n",
    "#         ix = np.where(np.isin(A,word[wix]))  \n",
    "#         wix+=1\n",
    "#     ix = np.where(np.isin(A,word[0]))\n",
    "#     if wix == len(word) :\n",
    "#         found = True\n",
    "#         break\n",
    "        \n",
    "# if found : print('\\n'+word+' found') \n",
    "# else : print('\\n'+word+' not found')"
   ]
  },
  {
   "cell_type": "code",
   "execution_count": null,
   "metadata": {},
   "outputs": [],
   "source": []
  },
  {
   "cell_type": "code",
   "execution_count": null,
   "metadata": {},
   "outputs": [],
   "source": []
  }
 ],
 "metadata": {
  "kernelspec": {
   "display_name": "Python 3",
   "language": "python",
   "name": "python3"
  },
  "language_info": {
   "codemirror_mode": {
    "name": "ipython",
    "version": 3
   },
   "file_extension": ".py",
   "mimetype": "text/x-python",
   "name": "python",
   "nbconvert_exporter": "python",
   "pygments_lexer": "ipython3",
   "version": "3.6.5"
  }
 },
 "nbformat": 4,
 "nbformat_minor": 2
}
